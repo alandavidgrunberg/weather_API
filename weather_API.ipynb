{
 "cells": [
  {
   "cell_type": "code",
   "execution_count": 1,
   "id": "d4b17686",
   "metadata": {},
   "outputs": [],
   "source": [
    "import requests # library for making HTTP requests"
   ]
  },
  {
   "cell_type": "code",
   "execution_count": 2,
   "id": "f5b98ddb",
   "metadata": {},
   "outputs": [],
   "source": [
    "BASE_URL = \"https://weather.lewagon.com\" # base url of weather API "
   ]
  },
  {
   "cell_type": "code",
   "execution_count": 3,
   "id": "76182865",
   "metadata": {},
   "outputs": [],
   "source": [
    "def search_city(CITY):\n",
    "    '''Look for a given city'''\n",
    "    url = BASE_URL + \"/geo/1.0/direct\" # https://weather.lewagon.com/geo/1.0/direct (geocoding endpoint)\n",
    "    cities = requests.get(url, params={'q': CITY}).json() # https://weather.lewagon.com/geo/1.0/direct?q=CITY (parameters format)\n",
    "    if not cities:\n",
    "        print(f\"Sorry, OpenWeather does not know about {CITY}...\")\n",
    "        return None\n",
    "    return cities[0]\n"
   ]
  },
  {
   "cell_type": "code",
   "execution_count": 4,
   "id": "6a26b0d9",
   "metadata": {},
   "outputs": [
    {
     "data": {
      "text/plain": [
       "{'name': 'New York',\n",
       " 'local_names': {'vi': 'New York',\n",
       "  'fa': 'نیویورک',\n",
       "  'uk': 'Нью-Йорк',\n",
       "  'fr': 'New York',\n",
       "  'ja': 'ニューヨーク',\n",
       "  'ta': 'நியூ யோர்க்',\n",
       "  'hi': 'न्यूयॊर्क्',\n",
       "  'is': 'Nýja Jórvík',\n",
       "  'pl': 'Nowy Jork',\n",
       "  'mi': 'Niu Iaka',\n",
       "  'ru': 'Нью-Йорк',\n",
       "  'he': 'ניו יורק',\n",
       "  'cs': 'New York',\n",
       "  'oc': 'Nòva York',\n",
       "  'eo': 'Novjorko',\n",
       "  'cy': 'Efrog Newydd',\n",
       "  'be': 'Нью-Ёрк',\n",
       "  'es': 'Nueva York',\n",
       "  'en': 'New York',\n",
       "  'ko': '뉴욕',\n",
       "  'gl': 'Nova York',\n",
       "  'ar': 'نيويورك',\n",
       "  'ca': 'Nova York',\n",
       "  'kn': 'ನ್ಯೂಯೊರ್ಕ್',\n",
       "  'pt': 'Nova Iorque',\n",
       "  'it': 'New York',\n",
       "  'zh': '纽约',\n",
       "  'el': 'Νέα Υόρκη',\n",
       "  'te': 'న్యూయొర్క్',\n",
       "  'de': 'New York'},\n",
       " 'lat': 40.7127281,\n",
       " 'lon': -74.0060152,\n",
       " 'country': 'US',\n",
       " 'state': 'New York'}"
      ]
     },
     "execution_count": 4,
     "metadata": {},
     "output_type": "execute_result"
    }
   ],
   "source": [
    "search_city('nyc')"
   ]
  },
  {
   "cell_type": "code",
   "execution_count": 5,
   "id": "7f12058d",
   "metadata": {},
   "outputs": [],
   "source": [
    "def weather_forecast(LAT, LON):\n",
    "    '''Return a 5-day weather forecast for a city, given its latitude and longitude.'''\n",
    "    url = BASE_URL + \"/data/2.5/forecast\" # https://weather.lewagon.com/data/2.5/forecast (5 day forecast endpoint)\n",
    "    forecasts = requests.get(url, params={'lat': LAT, 'lon': LON, 'units': 'metric'}).json() # https://weather.lewagon.com/data/2.5/weather?lat=LAT&lon=LON&units=metric (parameters format)\n",
    "    return forecasts['list'][::8] # extract 'list' key:value pair from json response\n",
    "                                  # lists forecasts in 3 hour increments, so extract ever 8th forecast to get 5 day forecast (3 x 8 = 24 hours)\n",
    "    "
   ]
  },
  {
   "cell_type": "code",
   "execution_count": 6,
   "id": "33e4b5e8",
   "metadata": {},
   "outputs": [
    {
     "data": {
      "text/plain": [
       "[{'dt': 1657983600,\n",
       "  'main': {'temp': 24.78,\n",
       "   'feels_like': 25.38,\n",
       "   'temp_min': 24.78,\n",
       "   'temp_max': 27.21,\n",
       "   'pressure': 1020,\n",
       "   'sea_level': 1020,\n",
       "   'grnd_level': 1018,\n",
       "   'humidity': 79,\n",
       "   'temp_kf': -2.43},\n",
       "  'weather': [{'id': 804,\n",
       "    'main': 'Clouds',\n",
       "    'description': 'overcast clouds',\n",
       "    'icon': '04d'}],\n",
       "  'clouds': {'all': 100},\n",
       "  'wind': {'speed': 2.85, 'deg': 143, 'gust': 2.82},\n",
       "  'visibility': 10000,\n",
       "  'pop': 0.05,\n",
       "  'sys': {'pod': 'd'},\n",
       "  'dt_txt': '2022-07-16 15:00:00'},\n",
       " {'dt': 1658070000,\n",
       "  'main': {'temp': 27.84,\n",
       "   'feels_like': 28.44,\n",
       "   'temp_min': 27.84,\n",
       "   'temp_max': 27.84,\n",
       "   'pressure': 1017,\n",
       "   'sea_level': 1017,\n",
       "   'grnd_level': 1016,\n",
       "   'humidity': 52,\n",
       "   'temp_kf': 0},\n",
       "  'weather': [{'id': 803,\n",
       "    'main': 'Clouds',\n",
       "    'description': 'broken clouds',\n",
       "    'icon': '04d'}],\n",
       "  'clouds': {'all': 59},\n",
       "  'wind': {'speed': 2.06, 'deg': 209, 'gust': 2.55},\n",
       "  'visibility': 10000,\n",
       "  'pop': 0,\n",
       "  'sys': {'pod': 'd'},\n",
       "  'dt_txt': '2022-07-17 15:00:00'},\n",
       " {'dt': 1658156400,\n",
       "  'main': {'temp': 24.47,\n",
       "   'feels_like': 25.09,\n",
       "   'temp_min': 24.47,\n",
       "   'temp_max': 24.47,\n",
       "   'pressure': 1015,\n",
       "   'sea_level': 1015,\n",
       "   'grnd_level': 1014,\n",
       "   'humidity': 81,\n",
       "   'temp_kf': 0},\n",
       "  'weather': [{'id': 500,\n",
       "    'main': 'Rain',\n",
       "    'description': 'light rain',\n",
       "    'icon': '10d'}],\n",
       "  'clouds': {'all': 100},\n",
       "  'wind': {'speed': 3.21, 'deg': 204, 'gust': 5.96},\n",
       "  'visibility': 10000,\n",
       "  'pop': 0.74,\n",
       "  'rain': {'3h': 0.45},\n",
       "  'sys': {'pod': 'd'},\n",
       "  'dt_txt': '2022-07-18 15:00:00'},\n",
       " {'dt': 1658242800,\n",
       "  'main': {'temp': 29.22,\n",
       "   'feels_like': 29.95,\n",
       "   'temp_min': 29.22,\n",
       "   'temp_max': 29.22,\n",
       "   'pressure': 1009,\n",
       "   'sea_level': 1009,\n",
       "   'grnd_level': 1009,\n",
       "   'humidity': 50,\n",
       "   'temp_kf': 0},\n",
       "  'weather': [{'id': 801,\n",
       "    'main': 'Clouds',\n",
       "    'description': 'few clouds',\n",
       "    'icon': '02d'}],\n",
       "  'clouds': {'all': 18},\n",
       "  'wind': {'speed': 4.31, 'deg': 294, 'gust': 6.62},\n",
       "  'visibility': 10000,\n",
       "  'pop': 0,\n",
       "  'sys': {'pod': 'd'},\n",
       "  'dt_txt': '2022-07-19 15:00:00'},\n",
       " {'dt': 1658329200,\n",
       "  'main': {'temp': 31.62,\n",
       "   'feels_like': 31.91,\n",
       "   'temp_min': 31.62,\n",
       "   'temp_max': 31.62,\n",
       "   'pressure': 1008,\n",
       "   'sea_level': 1008,\n",
       "   'grnd_level': 1008,\n",
       "   'humidity': 41,\n",
       "   'temp_kf': 0},\n",
       "  'weather': [{'id': 801,\n",
       "    'main': 'Clouds',\n",
       "    'description': 'few clouds',\n",
       "    'icon': '02d'}],\n",
       "  'clouds': {'all': 17},\n",
       "  'wind': {'speed': 2.88, 'deg': 257, 'gust': 4.58},\n",
       "  'visibility': 10000,\n",
       "  'pop': 0,\n",
       "  'sys': {'pod': 'd'},\n",
       "  'dt_txt': '2022-07-20 15:00:00'}]"
      ]
     },
     "execution_count": 6,
     "metadata": {},
     "output_type": "execute_result"
    }
   ],
   "source": [
    "weather_forecast(40.7127281,-74.0060152)"
   ]
  },
  {
   "cell_type": "code",
   "execution_count": 7,
   "id": "eead612c",
   "metadata": {},
   "outputs": [],
   "source": [
    "def  city_forecast():\n",
    "    '''Putting 'search_city()' and 'weather_forecast()' together, ask user for city name and display forecast'''\n",
    "    query = input(\"which city? \\n \") # get user query\n",
    "    \n",
    "    city = search_city(query) # call 'search_city()' on user query\n",
    "    \n",
    "    if city: # if city found from 'search_city()' API call:\n",
    "        daily_forecasts = weather_forecast(city['lat'], city['lon']) # extract latitude and longitude from response, pass to 'weather_forecast()'\n",
    "        print(f\"{city['name']}, {city['country']} forecast:\") # print city and country name from 'search_city()' response\n",
    "        for forecast in daily_forecasts: # iterate through 'weather_forecast()' response list\n",
    "            #max_temp = round(forecast['main']['temp_max']) # extract temperatures \n",
    "            print(f\"{forecast['dt_txt'][:10]}: {forecast['weather'][0]['description']} ({round(forecast['main']['temp_max'])}°C)\") # extract dates, weather conditions, temperatures\n",
    "                                                                                                                                   # format and print\n",
    "                "
   ]
  },
  {
   "cell_type": "code",
   "execution_count": 8,
   "id": "de662a1c",
   "metadata": {},
   "outputs": [
    {
     "name": "stdout",
     "output_type": "stream",
     "text": [
      "which city? \n",
      " nyc\n",
      "New York, US forecast:\n",
      "2022-07-16: overcast clouds (27°C)\n",
      "2022-07-17: broken clouds (28°C)\n",
      "2022-07-18: light rain (24°C)\n",
      "2022-07-19: few clouds (29°C)\n",
      "2022-07-20: few clouds (32°C)\n"
     ]
    }
   ],
   "source": [
    "city_forecast()\n",
    "\n",
    "## INPUT CITY NAME AND PRESS 'ENTER'"
   ]
  }
 ],
 "metadata": {
  "kernelspec": {
   "display_name": "Python 3 (ipykernel)",
   "language": "python",
   "name": "python3"
  },
  "language_info": {
   "codemirror_mode": {
    "name": "ipython",
    "version": 3
   },
   "file_extension": ".py",
   "mimetype": "text/x-python",
   "name": "python",
   "nbconvert_exporter": "python",
   "pygments_lexer": "ipython3",
   "version": "3.8.12"
  },
  "toc": {
   "base_numbering": 1,
   "nav_menu": {},
   "number_sections": true,
   "sideBar": true,
   "skip_h1_title": false,
   "title_cell": "Table of Contents",
   "title_sidebar": "Contents",
   "toc_cell": false,
   "toc_position": {},
   "toc_section_display": true,
   "toc_window_display": false
  }
 },
 "nbformat": 4,
 "nbformat_minor": 5
}
